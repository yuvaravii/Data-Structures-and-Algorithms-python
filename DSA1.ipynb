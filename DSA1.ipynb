{
 "cells": [
  {
   "cell_type": "markdown",
   "id": "5e592e59",
   "metadata": {},
   "source": [
    "## Data Structures and algorithms"
   ]
  },
  {
   "cell_type": "markdown",
   "id": "d12012eb",
   "metadata": {},
   "source": [
    "- Algorithms\n",
    "    - Sets of instruction to complete a task\n",
    "    - Different problem statement then identify algorithms to be used"
   ]
  },
  {
   "cell_type": "code",
   "execution_count": null,
   "id": "243868cb",
   "metadata": {},
   "outputs": [],
   "source": []
  }
 ],
 "metadata": {
  "kernelspec": {
   "display_name": "Python 3 (ipykernel)",
   "language": "python",
   "name": "python3"
  },
  "language_info": {
   "codemirror_mode": {
    "name": "ipython",
    "version": 3
   },
   "file_extension": ".py",
   "mimetype": "text/x-python",
   "name": "python",
   "nbconvert_exporter": "python",
   "pygments_lexer": "ipython3",
   "version": "3.9.13"
  }
 },
 "nbformat": 4,
 "nbformat_minor": 5
}
